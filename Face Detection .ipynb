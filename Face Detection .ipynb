{
 "cells": [
  {
   "cell_type": "code",
   "execution_count": 1,
   "id": "3639b761",
   "metadata": {},
   "outputs": [
    {
     "name": "stdout",
     "output_type": "stream",
     "text": [
      "Requirement already satisfied: opencv-python in c:\\users\\varada\\anaconda3\\lib\\site-packages (4.5.3.56)\n",
      "Requirement already satisfied: numpy>=1.17.3 in c:\\users\\varada\\anaconda3\\lib\\site-packages (from opencv-python) (1.20.1)\n",
      "Note: you may need to restart the kernel to use updated packages.\n"
     ]
    }
   ],
   "source": [
    "pip install opencv-python"
   ]
  },
  {
   "cell_type": "code",
   "execution_count": 2,
   "id": "bcc349c4",
   "metadata": {},
   "outputs": [],
   "source": [
    "import cv2\n",
    "face_cascade = cv2.CascadeClassifier(\"haarcascade_frontalface_default.xml\")"
   ]
  },
  {
   "cell_type": "code",
   "execution_count": 3,
   "id": "154f9509",
   "metadata": {},
   "outputs": [],
   "source": [
    "webcam = cv2.VideoCapture(0)\n",
    "count = 1"
   ]
  },
  {
   "cell_type": "code",
   "execution_count": 4,
   "id": "9ba68635",
   "metadata": {},
   "outputs": [],
   "source": [
    "while count<30:\n",
    "    (_,img) = webcam.read(0) #read the frame\n",
    "    gray = cv2.cvtColor(img,cv2.COLOR_BGR2GRAY) #Convert image into grayscale\n",
    "    faces = face_cascade.detectMultiScale(gray, 1.1, 4) #detect faces\n",
    "    for (x, y, w, h) in faces:\n",
    "        cv2.rectangle(img,(x, y),(x + w, y + h),(255, 0, 0), 2) #rectangle around faces\n",
    "        cv2.imwrite('facedetect.jpg',img) #save detected face\n",
    "    count = count + 1\n",
    "    cv2.imshow('img',img) #display\n",
    "    key = cv2.waitKey(10)&\n",
    "    if key == 27:\n",
    "        break\n"
   ]
  },
  {
   "cell_type": "markdown",
   "id": "5f961bba",
   "metadata": {},
   "source": [
    " "
   ]
  },
  {
   "cell_type": "code",
   "execution_count": null,
   "id": "2c3e0666",
   "metadata": {},
   "outputs": [],
   "source": []
  },
  {
   "cell_type": "code",
   "execution_count": null,
   "id": "b58beeea",
   "metadata": {},
   "outputs": [],
   "source": []
  }
 ],
 "metadata": {
  "kernelspec": {
   "display_name": "Python 3",
   "language": "python",
   "name": "python3"
  },
  "language_info": {
   "codemirror_mode": {
    "name": "ipython",
    "version": 3
   },
   "file_extension": ".py",
   "mimetype": "text/x-python",
   "name": "python",
   "nbconvert_exporter": "python",
   "pygments_lexer": "ipython3",
   "version": "3.8.8"
  }
 },
 "nbformat": 4,
 "nbformat_minor": 5
}
